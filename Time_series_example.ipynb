{
 "cells": [
  {
   "cell_type": "markdown",
   "id": "7317ab09",
   "metadata": {},
   "source": [
    "# AWS Re:Invent  Autogluon Workshop\n",
    "### This workshop will demonstrate a machine learning problem solved by autogluon.\n",
    "* Use the documentation of autogluon and the different tutorials [here](https://auto.gluon.ai/stable/index.html)."
   ]
  },
  {
   "cell_type": "markdown",
   "id": "ea08cce0",
   "metadata": {},
   "source": [
    "## Context\n",
    "In this workshop will use the Time Series predictor of Autogluon to forecast the number of futures Covid cases in different countries."
   ]
  },
  {
   "cell_type": "code",
   "execution_count": null,
   "id": "701b6369",
   "metadata": {},
   "outputs": [],
   "source": [
    "# If running on your own computer please refer to AutoGluon installation instructions:\n",
    "# https://auto.gluon.ai/stable/install.html\n",
    "# This notebook assumes running in SageMaker Studio with \"PyTorch 1.12 Python 3.8 CPU Optimized\" kernel.\n",
    "!pip3 install autogluon\n",
    "!pip3 install ipywidgets"
   ]
  },
  {
   "cell_type": "code",
   "execution_count": 1,
   "id": "d6bcffec",
   "metadata": {},
   "outputs": [],
   "source": [
    "# Import the needed librairies\n",
    "import pandas as pd\n",
    "from matplotlib import pyplot as plt\n",
    "\n",
    "from autogluon.timeseries import TimeSeriesPredictor, TimeSeriesDataFrame"
   ]
  },
  {
   "cell_type": "code",
   "execution_count": 2,
   "id": "1ec2321f",
   "metadata": {},
   "outputs": [
    {
     "data": {
      "text/plain": [
       "<matplotlib.legend.Legend at 0x7fbe1256add0>"
      ]
     },
     "execution_count": 2,
     "metadata": {},
     "output_type": "execute_result"
    },
    {
     "data": {
      "image/png": "[encoded data removed]",
      "text/plain": [
       "<Figure size 1200x300 with 1 Axes>"
      ]
     },
     "metadata": {},
     "output_type": "display_data"
    }
   ],
   "source": [
    "# We get the covid data \n",
    "df = pd.read_csv(\n",
    "    \"https://autogluon.s3-us-west-2.amazonaws.com/datasets/CovidTimeSeries/train.csv\",\n",
    "    parse_dates=[\"Date\"],\n",
    ")\n",
    "# Creation of the train dataset using the TimeSeriesDataFrame.\n",
    "train_data = TimeSeriesDataFrame.from_data_frame(\n",
    "    df, # We give the data frame\n",
    "    id_column=\"name\", # We mention what are the id of the different time series (one for each country)\n",
    "    timestamp_column=\"Date\", # We pass the timestamp \n",
    ")\n",
    "\n",
    "plt.figure(figsize=(12, 3))\n",
    "for country in [\"United Kingdom_\", \"Germany_\"]:\n",
    "    plt.plot(train_data.loc[country].iloc[5:], label=country)\n",
    "plt.legend()"
   ]
  },
  {
   "cell_type": "code",
   "execution_count": 3,
   "id": "bdb6472f",
   "metadata": {},
   "outputs": [],
   "source": [
    "prediction_length = 5 # We will predict the next 5 days of covid cases"
   ]
  },
  {
   "cell_type": "code",
   "execution_count": 4,
   "id": "54963ec2",
   "metadata": {},
   "outputs": [],
   "source": [
    "test_data = train_data.copy()\n",
    "train_data = train_data.slice_by_timestep(slice(None, -prediction_length)) \n",
    "# We use the last 5 days as our testing set."
   ]
  },
  {
   "cell_type": "code",
   "execution_count": 5,
   "id": "f4cc751a",
   "metadata": {},
   "outputs": [
    {
     "data": {
      "text/html": [
       "<div>\n",
       "<style scoped>\n",
       "    .dataframe tbody tr th:only-of-type {\n",
       "        vertical-align: middle;\n",
       "    }\n",
       "\n",
       "    .dataframe tbody tr th {\n",
       "        vertical-align: top;\n",
       "    }\n",
       "\n",
       "    .dataframe thead th {\n",
       "        text-align: right;\n",
       "    }\n",
       "</style>\n",
       "<table border=\"1\" class=\"dataframe\">\n",
       "  <thead>\n",
       "    <tr style=\"text-align: right;\">\n",
       "      <th></th>\n",
       "      <th></th>\n",
       "      <th>ConfirmedCases</th>\n",
       "    </tr>\n",
       "    <tr>\n",
       "      <th>item_id</th>\n",
       "      <th>timestamp</th>\n",
       "      <th></th>\n",
       "    </tr>\n",
       "  </thead>\n",
       "  <tbody>\n",
       "    <tr>\n",
       "      <th rowspan=\"5\" valign=\"top\">Afghanistan_</th>\n",
       "      <th>2020-01-22</th>\n",
       "      <td>0.0</td>\n",
       "    </tr>\n",
       "    <tr>\n",
       "      <th>2020-01-23</th>\n",
       "      <td>0.0</td>\n",
       "    </tr>\n",
       "    <tr>\n",
       "      <th>2020-01-24</th>\n",
       "      <td>0.0</td>\n",
       "    </tr>\n",
       "    <tr>\n",
       "      <th>2020-01-25</th>\n",
       "      <td>0.0</td>\n",
       "    </tr>\n",
       "    <tr>\n",
       "      <th>2020-01-26</th>\n",
       "      <td>0.0</td>\n",
       "    </tr>\n",
       "  </tbody>\n",
       "</table>\n",
       "</div>"
      ],
      "text/plain": [
       "                         ConfirmedCases\n",
       "item_id      timestamp                 \n",
       "Afghanistan_ 2020-01-22             0.0\n",
       "             2020-01-23             0.0\n",
       "             2020-01-24             0.0\n",
       "             2020-01-25             0.0\n",
       "             2020-01-26             0.0"
      ]
     },
     "execution_count": 5,
     "metadata": {},
     "output_type": "execute_result"
    }
   ],
   "source": [
    "train_data.head()"
   ]
  },
  {
   "cell_type": "code",
   "execution_count": 7,
   "id": "81ec4a4c",
   "metadata": {},
   "outputs": [
    {
     "name": "stderr",
     "output_type": "stream",
     "text": [
      "Warning: path already exists! This predictor may overwrite an existing predictor! path=\"autogluon-covidforecast\"\n",
      "================ TimeSeriesPredictor ================\n",
      "TimeSeriesPredictor.fit() called\n",
      "Fitting with arguments:\n",
      "{'evaluation_metric': 'MAPE',\n",
      " 'hyperparameter_tune_kwargs': None,\n",
      " 'hyperparameters': 'default',\n",
      " 'prediction_length': 5,\n",
      " 'target_column': 'ConfirmedCases',\n",
      " 'time_limit': 300}\n",
      "Provided training data set with 20971 rows, 313 items. Average time series length is 67.0.\n",
      "Training artifacts will be saved to: /home/ec2-user/SageMaker/autogluon-covidforecast\n",
      "=====================================================\n",
      "Validation data is None, will hold the last prediction_length 5 time steps out to use as validation set.\n",
      "\n",
      "Starting training. Start time is 2022-11-29 23:52:14\n",
      "Models that will be trained: ['AutoETS', 'ARIMA', 'SimpleFeedForward', 'DeepAR', 'Transformer']\n",
      "Training timeseries model AutoETS. Training for up to 299.33s of the 299.33s of remaining time.\n",
      "\t-0.2007       = Validation score (-MAPE)\n",
      "\t6.39    s     = Training runtime\n",
      "\t28.33   s     = Validation (prediction) runtime\n",
      "Training timeseries model ARIMA. Training for up to 264.24s of the 264.24s of remaining time.\n",
      "\t-0.2174       = Validation score (-MAPE)\n",
      "\t24.88   s     = Training runtime\n",
      "\t39.18   s     = Validation (prediction) runtime\n",
      "Training timeseries model SimpleFeedForward. Training for up to 199.35s of the 199.35s of remaining time.\n",
      "\t-0.2158       = Validation score (-MAPE)\n",
      "\t150.07  s     = Training runtime\n",
      "\t1.99    s     = Validation (prediction) runtime\n",
      "Training timeseries model DeepAR. Training for up to 47.28s of the 47.28s of remaining time.\n",
      "\t-0.5921       = Validation score (-MAPE)\n",
      "\t47.98   s     = Training runtime\n",
      "\t3.80    s     = Validation (prediction) runtime\n",
      "Stopping training due to lack of time remaining. Time left: -4.51 seconds\n",
      "Fitting simple weighted ensemble.\n",
      "\t-0.1928       = Validation score (-MAPE)\n",
      "\t129.70  s     = Training runtime\n",
      "\t69.50   s     = Validation (prediction) runtime\n",
      "Training complete. Models trained: ['AutoETS', 'ARIMA', 'SimpleFeedForward', 'DeepAR', 'WeightedEnsemble']\n",
      "Total runtime: 506.95 s\n",
      "Best model: WeightedEnsemble\n",
      "Best model score: -0.1928\n"
     ]
    },
    {
     "data": {
      "text/plain": [
       "<autogluon.timeseries.predictor.TimeSeriesPredictor at 0x7fbe0a1b01d0>"
      ]
     },
     "execution_count": 7,
     "metadata": {},
     "output_type": "execute_result"
    }
   ],
   "source": [
    "predictor = TimeSeriesPredictor(\n",
    "    path=\"autogluon-covidforecast\", # Our saving path where will be all the models trained\n",
    "    target=\"ConfirmedCases\", # The label we want to predict from the data frame\n",
    "    prediction_length=prediction_length, # the number of day we want to predict\n",
    "    eval_metric=\"MAPE\", # Our evaluation metric\n",
    ")\n",
    "predictor.fit(\n",
    "    train_data=train_data, \n",
    "    time_limit=5*60 # we set 5 min for time purpose.\n",
    ")"
   ]
  },
  {
   "cell_type": "code",
   "execution_count": 8,
   "id": "bf1101d1",
   "metadata": {},
   "outputs": [
    {
     "name": "stderr",
     "output_type": "stream",
     "text": [
      "Additional data provided, testing on additional data. Resulting leaderboard will be sorted according to test score (`score_test`).\n",
      "Different set of items than those provided during training were provided for prediction. The model AutoETS will be re-trained on newly provided data\n",
      "Different set of items than those provided during training were provided for prediction. The model ARIMA will be re-trained on newly provided data\n",
      "Different set of items than those provided during training were provided for prediction. The model AutoETS will be re-trained on newly provided data\n",
      "Different set of items than those provided during training were provided for prediction. The model ARIMA will be re-trained on newly provided data\n"
     ]
    },
    {
     "data": {
      "text/html": [
       "<div>\n",
       "<style scoped>\n",
       "    .dataframe tbody tr th:only-of-type {\n",
       "        vertical-align: middle;\n",
       "    }\n",
       "\n",
       "    .dataframe tbody tr th {\n",
       "        vertical-align: top;\n",
       "    }\n",
       "\n",
       "    .dataframe thead th {\n",
       "        text-align: right;\n",
       "    }\n",
       "</style>\n",
       "<table border=\"1\" class=\"dataframe\">\n",
       "  <thead>\n",
       "    <tr style=\"text-align: right;\">\n",
       "      <th></th>\n",
       "      <th>model</th>\n",
       "      <th>score_test</th>\n",
       "      <th>score_val</th>\n",
       "      <th>pred_time_test</th>\n",
       "      <th>pred_time_val</th>\n",
       "      <th>fit_time_marginal</th>\n",
       "      <th>fit_order</th>\n",
       "    </tr>\n",
       "  </thead>\n",
       "  <tbody>\n",
       "    <tr>\n",
       "      <th>0</th>\n",
       "      <td>WeightedEnsemble</td>\n",
       "      <td>-0.126449</td>\n",
       "      <td>-0.192838</td>\n",
       "      <td>100.717510</td>\n",
       "      <td>69.499057</td>\n",
       "      <td>129.697543</td>\n",
       "      <td>5</td>\n",
       "    </tr>\n",
       "    <tr>\n",
       "      <th>1</th>\n",
       "      <td>ARIMA</td>\n",
       "      <td>-0.130864</td>\n",
       "      <td>-0.217444</td>\n",
       "      <td>67.448008</td>\n",
       "      <td>39.182561</td>\n",
       "      <td>24.875390</td>\n",
       "      <td>2</td>\n",
       "    </tr>\n",
       "    <tr>\n",
       "      <th>2</th>\n",
       "      <td>AutoETS</td>\n",
       "      <td>-0.139026</td>\n",
       "      <td>-0.200691</td>\n",
       "      <td>35.566422</td>\n",
       "      <td>28.330808</td>\n",
       "      <td>6.386951</td>\n",
       "      <td>1</td>\n",
       "    </tr>\n",
       "    <tr>\n",
       "      <th>3</th>\n",
       "      <td>SimpleFeedForward</td>\n",
       "      <td>-0.158146</td>\n",
       "      <td>-0.215751</td>\n",
       "      <td>1.846263</td>\n",
       "      <td>1.985689</td>\n",
       "      <td>150.072108</td>\n",
       "      <td>3</td>\n",
       "    </tr>\n",
       "    <tr>\n",
       "      <th>4</th>\n",
       "      <td>DeepAR</td>\n",
       "      <td>-0.291794</td>\n",
       "      <td>-0.592067</td>\n",
       "      <td>3.965394</td>\n",
       "      <td>3.796728</td>\n",
       "      <td>47.978989</td>\n",
       "      <td>4</td>\n",
       "    </tr>\n",
       "  </tbody>\n",
       "</table>\n",
       "</div>"
      ],
      "text/plain": [
       "               model  score_test  score_val  pred_time_test  pred_time_val  \\\n",
       "0   WeightedEnsemble   -0.126449  -0.192838      100.717510      69.499057   \n",
       "1              ARIMA   -0.130864  -0.217444       67.448008      39.182561   \n",
       "2            AutoETS   -0.139026  -0.200691       35.566422      28.330808   \n",
       "3  SimpleFeedForward   -0.158146  -0.215751        1.846263       1.985689   \n",
       "4             DeepAR   -0.291794  -0.592067        3.965394       3.796728   \n",
       "\n",
       "   fit_time_marginal  fit_order  \n",
       "0         129.697543          5  \n",
       "1          24.875390          2  \n",
       "2           6.386951          1  \n",
       "3         150.072108          3  \n",
       "4          47.978989          4  "
      ]
     },
     "execution_count": 8,
     "metadata": {},
     "output_type": "execute_result"
    }
   ],
   "source": [
    "predictor.leaderboard(test_data, silent=True)\n",
    "# We can compare the different models "
   ]
  },
  {
   "cell_type": "code",
   "execution_count": 9,
   "id": "80cc484e",
   "metadata": {},
   "outputs": [
    {
     "name": "stderr",
     "output_type": "stream",
     "text": [
      "Model not specified in predict, will default to the model with the best validation score: WeightedEnsemble\n",
      "Different set of items than those provided during training were provided for prediction. The model AutoETS will be re-trained on newly provided data\n",
      "Different set of items than those provided during training were provided for prediction. The model ARIMA will be re-trained on newly provided data\n"
     ]
    },
    {
     "data": {
      "text/plain": [
       "-0.12716940396378074"
      ]
     },
     "execution_count": 9,
     "metadata": {},
     "output_type": "execute_result"
    }
   ],
   "source": [
    "predictor.evaluate(test_data)"
   ]
  },
  {
   "cell_type": "code",
   "execution_count": 10,
   "id": "7973b022",
   "metadata": {},
   "outputs": [
    {
     "name": "stderr",
     "output_type": "stream",
     "text": [
      "Model not specified in predict, will default to the model with the best validation score: WeightedEnsemble\n",
      "Different set of items than those provided during training were provided for prediction. The model AutoETS will be re-trained on newly provided data\n",
      "Different set of items than those provided during training were provided for prediction. The model ARIMA will be re-trained on newly provided data\n"
     ]
    }
   ],
   "source": [
    "predictions = predictor.predict(train_data)"
   ]
  },
  {
   "cell_type": "code",
   "execution_count": 11,
   "id": "2acbd6ca",
   "metadata": {},
   "outputs": [
    {
     "data": {
      "image/png": "[encoded data removed]",
      "text/plain": [
       "<Figure size 1200x300 with 1 Axes>"
      ]
     },
     "metadata": {},
     "output_type": "display_data"
    }
   ],
   "source": [
    "plt.figure(figsize=(12, 3))\n",
    "\n",
    "ytrue = train_data.loc['France_'][\"ConfirmedCases\"]\n",
    "ypred = predictions.loc['France_']\n",
    "\n",
    "# prepend the last value of true range to predicted range for plotting continuity\n",
    "ypred.loc[ytrue.index[-1]] = [ytrue[-1]] * 10\n",
    "ypred = ypred.sort_index()\n",
    "\n",
    "ytrue_test = test_data.loc['France_'][\"ConfirmedCases\"][-5:]\n",
    "\n",
    "plt.plot(ytrue[-30:], label=\"Training Data\")\n",
    "plt.plot(ypred[\"mean\"], label=\"Mean Forecasts\")\n",
    "plt.plot(ytrue_test, label=\"Actual\")\n",
    "\n",
    "plt.fill_between(\n",
    "    ypred.index, ypred[\"0.1\"], ypred[\"0.9\"], color=\"red\", alpha=0.1\n",
    ")\n",
    "plt.title(\"COVID Case Forecasts in France, compared to actual trajectory\")\n",
    "_ = plt.legend()"
   ]
  },
  {
   "cell_type": "code",
   "execution_count": null,
   "id": "854c81b6",
   "metadata": {},
   "outputs": [],
   "source": []
  }
 ],
 "metadata": {
  "kernelspec": {
   "display_name": "Python 3 (ipykernel)",
   "language": "python",
   "name": "python3"
  },
  "language_info": {
   "codemirror_mode": {
    "name": "ipython",
    "version": 3
   },
   "file_extension": ".py",
   "mimetype": "text/x-python",
   "name": "python",
   "nbconvert_exporter": "python",
   "pygments_lexer": "ipython3",
   "version": "3.7.12"
  }
 },
 "nbformat": 4,
 "nbformat_minor": 5
}
