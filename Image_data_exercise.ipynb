{
 "cells": [
  {
   "cell_type": "markdown",
   "id": "ef541e80",
   "metadata": {},
   "source": [
    "# AWS Re:Invent  Autogluon Workshop\n",
    "### This workshop will demonstrate a machine learning problem solved by autogluon.\n",
    "* The problem we want to solve in this tutorial is Shopee clothes labeling. The problem is exctracted from [this kaggle competition](https://www.kaggle.com/datasets/gpiosenka/sports-classification)\n",
    "* Use the documentation of autogluon and the different tutorials [here](https://auto.gluon.ai/stable/index.html)."
   ]
  },
  {
   "cell_type": "code",
   "execution_count": null,
   "id": "b096c6f3",
   "metadata": {},
   "outputs": [],
   "source": [
    "# Installation\n",
    "!pip3 install autogluon"
   ]
  },
  {
   "cell_type": "code",
   "execution_count": null,
   "id": "c5c9a0b7",
   "metadata": {},
   "outputs": [],
   "source": [
    "import torch\n",
    "torch.cuda.is_available()"
   ]
  },
  {
   "cell_type": "code",
   "execution_count": null,
   "id": "6d3e7794",
   "metadata": {},
   "outputs": [],
   "source": [
    "print(torch.version.cuda)"
   ]
  },
  {
   "cell_type": "code",
   "execution_count": null,
   "id": "c9946196",
   "metadata": {},
   "outputs": [],
   "source": [
    "def my_evaluate(predictor, test_dataset):\n",
    "    tmp_df = test_dataset.copy()\n",
    "    tmp_df['prediction'] = predictor.predict(test_dataset)\n",
    "    accuracy = (tmp_df['prediction']==tmp_df['labels']).sum() / tmp_df.shape[0]\n",
    "    return accuracy"
   ]
  },
  {
   "cell_type": "code",
   "execution_count": null,
   "id": "09955e25-97ce-45db-897f-056ebd7ddbf8",
   "metadata": {},
   "outputs": [],
   "source": [
    "def print_image(data_path, image_idx):\n",
    "    image_path = data_path.iloc[image_idx]['image']\n",
    "    pil_img = Image(filename=image_path)\n",
    "    display(pil_img)\n",
    "    return"
   ]
  },
  {
   "cell_type": "code",
   "execution_count": null,
   "id": "422a6f37",
   "metadata": {},
   "outputs": [],
   "source": [
    "# import autogluon tools.\n"
   ]
  },
  {
   "cell_type": "markdown",
   "id": "fa193bea",
   "metadata": {},
   "source": [
    "### Download the dataset from kaggle\n",
    "* [website](https://www.kaggle.com/datasets/gpiosenka/sports-classification/download?datasetVersionNumber=8)\n",
    "* upload the archive to the Dataset folder and unzip it\n",
    "\n"
   ]
  },
  {
   "cell_type": "code",
   "execution_count": null,
   "id": "889d833a",
   "metadata": {},
   "outputs": [],
   "source": [
    "try:\n",
    "    csv_file = 'Datasets/sports.csv'\n",
    "    df = pd.read_csv(csv_file)\n",
    "except:\n",
    "    # unzip the dataset\n",
    "    !unzip Datasets/image.zip -d Datasets/\n",
    "    csv_file = 'Datasets/sports.csv'\n",
    "    df = pd.read_csv(csv_file)\n",
    "df.head()\n"
   ]
  },
  {
   "cell_type": "code",
   "execution_count": null,
   "id": "a2bfb0d1",
   "metadata": {},
   "outputs": [],
   "source": [
    "df['image'] = 'Datasets/' + df['filepaths']\n",
    "df = df.drop(columns='filepaths')"
   ]
  },
  {
   "cell_type": "code",
   "execution_count": null,
   "id": "92ae187f",
   "metadata": {},
   "outputs": [],
   "source": [
    "df.to_csv('image_dataset.csv')"
   ]
  },
  {
   "cell_type": "code",
   "execution_count": null,
   "id": "53877c78",
   "metadata": {},
   "outputs": [],
   "source": [
    "Load the data set with autogluon from_csv method\n",
    "df_image = df.copy() \n",
    "df_image.head()"
   ]
  },
  {
   "cell_type": "code",
   "execution_count": null,
   "id": "df1190b9",
   "metadata": {},
   "outputs": [],
   "source": [
    "# this dataset has train val test in the columns\n",
    "df_image['data set'].unique()"
   ]
  },
  {
   "cell_type": "code",
   "execution_count": null,
   "id": "43ebcea5",
   "metadata": {},
   "outputs": [],
   "source": [
    "# set the label \n",
    "# label = ..."
   ]
  },
  {
   "cell_type": "code",
   "execution_count": null,
   "id": "da072053",
   "metadata": {},
   "outputs": [],
   "source": [
    "# Create 3 datasets for train val and test\n",
    "# train_dataset = ...\n",
    "# val_dataset = ...\n",
    "# test_dataset = ...\n"
   ]
  },
  {
   "cell_type": "code",
   "execution_count": null,
   "id": "68fce983",
   "metadata": {},
   "outputs": [],
   "source": [
    "df_tmp = df_image.sample(frac=1).iloc[:12]\n",
    "for i in range(12):\n",
    "    print_image(df_tmp,0)"
   ]
  },
  {
   "cell_type": "markdown",
   "id": "20fe6fca",
   "metadata": {},
   "source": [
    "### Labels\n",
    "* Sports"
   ]
  },
  {
   "cell_type": "code",
   "execution_count": null,
   "id": "1980147a",
   "metadata": {},
   "outputs": [],
   "source": [
    "df_tmp = train_dataset.loc[train_dataset['labels']=='air hockey'].iloc[:4]\n",
    "for i in range(4):\n",
    "    print_image(df_tmp,0)"
   ]
  },
  {
   "cell_type": "code",
   "execution_count": null,
   "id": "7315af14",
   "metadata": {},
   "outputs": [],
   "source": [
    "df_tmp = train_dataset.loc[train_dataset['labels']=='football'].iloc[:4]\n",
    "for i in range(4):\n",
    "    print_image(df_tmp,0)"
   ]
  },
  {
   "cell_type": "code",
   "execution_count": null,
   "id": "e46e43d3",
   "metadata": {},
   "outputs": [],
   "source": [
    "df_tmp = train_dataset.loc[train_dataset['labels']=='hockey'].iloc[:4]\n",
    "for i in range(4):\n",
    "    print_image(df_tmp,0)"
   ]
  },
  {
   "cell_type": "code",
   "execution_count": null,
   "id": "1cc6ee68",
   "metadata": {},
   "outputs": [],
   "source": [
    "df_tmp = train_dataset.loc[train_dataset['labels']=='basketball'].iloc[:4]\n",
    "for i in range(4):\n",
    "    print_image(df_tmp,0)"
   ]
  },
  {
   "cell_type": "markdown",
   "id": "02d79c2b",
   "metadata": {},
   "source": [
    "### Let's use the default config and take a time limit of 5 min."
   ]
  },
  {
   "cell_type": "code",
   "execution_count": null,
   "id": "7d56b23f",
   "metadata": {},
   "outputs": [],
   "source": [
    "# Set up the predictor. Mention the label when you call the predictor\n",
    "# predictor = ...\n",
    "\n",
    "# Fit the predictor with the train dataset and tune it with the validation dataset. Put a time limit of 5 min.\n",
    "# ..."
   ]
  },
  {
   "cell_type": "markdown",
   "id": "28d2ef49",
   "metadata": {},
   "source": [
    "### The default model is resnet50, with the best config printed just above."
   ]
  },
  {
   "cell_type": "code",
   "execution_count": null,
   "id": "103196b4",
   "metadata": {},
   "outputs": [],
   "source": [
    "# print the train, val accuracy.\n",
    "# fit_result = ...\n",
    "print('val acc: %.3f' %(fit_result['val_accuracy']))"
   ]
  },
  {
   "cell_type": "code",
   "execution_count": null,
   "id": "430fd96d",
   "metadata": {},
   "outputs": [],
   "source": [
    "# Evaluate the predictor on the test dataset\n",
    "# set the true values\n",
    "# y_test = ... \n",
    "# delete label column to prove we're not cheating\n",
    "# test_data_nolab = ..."
   ]
  },
  {
   "cell_type": "code",
   "execution_count": null,
   "id": "82089e38",
   "metadata": {},
   "outputs": [],
   "source": [
    "# predict on the test dataset without label\n",
    "# y_pred = ...\n",
    "# evalute your predictions vs the true labels with evaluate_predictions function.\n",
    "# perf = ..."
   ]
  },
  {
   "cell_type": "code",
   "execution_count": null,
   "id": "124d16a0",
   "metadata": {},
   "outputs": [],
   "source": [
    "# print a prediction of one element of the test dataset\n",
    "image_index = 0\n",
    "image_path = test_dataset.iloc[image_index]['image']\n",
    "# result = ...\n",
    "print(result)"
   ]
  },
  {
   "cell_type": "markdown",
   "id": "19a2e9b0",
   "metadata": {},
   "source": [
    "### let's have look to test subsample."
   ]
  },
  {
   "cell_type": "code",
   "execution_count": null,
   "id": "94d5f94a",
   "metadata": {},
   "outputs": [],
   "source": [
    "# print some test data images and create a subsample to see the prediction of the images.\n",
    "test_sample = test_dataset.sample(frac=1).iloc[:4]\n",
    "for i in range(4):\n",
    "    print_image(test_sample,0)"
   ]
  },
  {
   "cell_type": "code",
   "execution_count": null,
   "id": "99ddc168",
   "metadata": {},
   "outputs": [],
   "source": [
    "# print the predictions of the sub sample.\n",
    "# bulk_result = ...\n",
    "# "
   ]
  },
  {
   "cell_type": "code",
   "execution_count": null,
   "id": "a1097a07",
   "metadata": {},
   "outputs": [],
   "source": [
    "# print the true labels.\n",
    "# "
   ]
  },
  {
   "cell_type": "markdown",
   "id": "ae50aa37",
   "metadata": {},
   "source": [
    "# Optional\n",
    "### Let's see the result with more training time"
   ]
  },
  {
   "cell_type": "code",
   "execution_count": null,
   "id": "c9a98673",
   "metadata": {},
   "outputs": [],
   "source": [
    "# you can try to train your predictor with more time.\n",
    "# hyperparameters=...\n",
    "\n",
    "# predictor = ...\n",
    "\n",
    "print('val acc: %.3f' %(fit_result['val_accuracy']))"
   ]
  },
  {
   "cell_type": "code",
   "execution_count": null,
   "id": "ee37821b",
   "metadata": {},
   "outputs": [],
   "source": [
    "# evaluate it\n",
    "# results = ...\n",
    "print('Test acc on hold-out data:', results)"
   ]
  }
 ],
 "metadata": {
  "kernelspec": {
   "display_name": "conda_amazonei_pytorch_latest_p37",
   "language": "python",
   "name": "conda_amazonei_pytorch_latest_p37"
  },
  "language_info": {
   "codemirror_mode": {
    "name": "ipython",
    "version": 3
   },
   "file_extension": ".py",
   "mimetype": "text/x-python",
   "name": "python",
   "nbconvert_exporter": "python",
   "pygments_lexer": "ipython3",
   "version": "3.7.12"
  }
 },
 "nbformat": 4,
 "nbformat_minor": 5
}
